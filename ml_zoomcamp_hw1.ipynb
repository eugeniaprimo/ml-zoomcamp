{
 "cells": [
  {
   "cell_type": "code",
   "execution_count": 1,
   "id": "404f5cb4-f12a-4479-b2d4-1f3a4cd62bc3",
   "metadata": {
    "tags": []
   },
   "outputs": [],
   "source": [
    "import pandas as pd \n",
    "import numpy as np\n",
    "from io import StringIO\n",
    "import requests"
   ]
  },
  {
   "cell_type": "markdown",
   "id": "b8317062-7bda-41c0-90be-ba42f80a797e",
   "metadata": {},
   "source": [
    "**Question 1**"
   ]
  },
  {
   "cell_type": "code",
   "execution_count": 2,
   "id": "3f7d0dcd-4efd-4ae7-99ba-de1d83bca98c",
   "metadata": {
    "tags": []
   },
   "outputs": [
    {
     "data": {
      "text/plain": [
       "'2.0.3'"
      ]
     },
     "execution_count": 2,
     "metadata": {},
     "output_type": "execute_result"
    }
   ],
   "source": [
    "pd.__version__"
   ]
  },
  {
   "cell_type": "markdown",
   "id": "cba79d46-e14b-4cc2-a4f4-017e47406cc0",
   "metadata": {},
   "source": [
    "**Question 2**"
   ]
  },
  {
   "cell_type": "code",
   "execution_count": 3,
   "id": "c73b266d-43c9-4308-819e-326a460c6e0d",
   "metadata": {
    "tags": []
   },
   "outputs": [],
   "source": [
    "url = \"https://raw.githubusercontent.com/alexeygrigorev/datasets/master/housing.csv\"\n",
    "response = requests.get(url)\n",
    "data = StringIO(response.text) \n",
    "df = pd.read_csv(data)"
   ]
  },
  {
   "cell_type": "code",
   "execution_count": 4,
   "id": "89534269-bc66-4203-82d6-7e8c4c405f71",
   "metadata": {
    "tags": []
   },
   "outputs": [
    {
     "data": {
      "text/plain": [
       "10"
      ]
     },
     "execution_count": 4,
     "metadata": {},
     "output_type": "execute_result"
    }
   ],
   "source": [
    "col_number = len(df.columns)\n",
    "col_number"
   ]
  },
  {
   "cell_type": "markdown",
   "id": "46ce3c92-c76d-40f6-b0d0-227914d74638",
   "metadata": {},
   "source": [
    "**Question 3**"
   ]
  },
  {
   "cell_type": "code",
   "execution_count": 5,
   "id": "801112cc-c6b7-4e37-8ea7-94d362cb52e0",
   "metadata": {
    "tags": []
   },
   "outputs": [
    {
     "data": {
      "text/plain": [
       "longitude               0\n",
       "latitude                0\n",
       "housing_median_age      0\n",
       "total_rooms             0\n",
       "total_bedrooms        207\n",
       "population              0\n",
       "households              0\n",
       "median_income           0\n",
       "median_house_value      0\n",
       "ocean_proximity         0\n",
       "dtype: int64"
      ]
     },
     "execution_count": 5,
     "metadata": {},
     "output_type": "execute_result"
    }
   ],
   "source": [
    "df.isna().sum()"
   ]
  },
  {
   "cell_type": "markdown",
   "id": "0e02e852-d585-44f9-8757-eabf448d6f9f",
   "metadata": {},
   "source": [
    "**Question 4**"
   ]
  },
  {
   "cell_type": "code",
   "execution_count": 6,
   "id": "4a1f9280-6bfa-4a69-a0a2-68e5f5338a5e",
   "metadata": {
    "tags": []
   },
   "outputs": [
    {
     "data": {
      "text/plain": [
       "5"
      ]
     },
     "execution_count": 6,
     "metadata": {},
     "output_type": "execute_result"
    }
   ],
   "source": [
    "df[\"ocean_proximity\"].nunique()"
   ]
  },
  {
   "cell_type": "markdown",
   "id": "33c4d3fc-e43d-4a95-932b-4f5a2d291ed1",
   "metadata": {},
   "source": [
    "**Question 5**"
   ]
  },
  {
   "cell_type": "code",
   "execution_count": 7,
   "id": "57516e65-6d74-47e4-947f-f707c519e191",
   "metadata": {},
   "outputs": [
    {
     "data": {
      "text/plain": [
       "259212.31179039303"
      ]
     },
     "execution_count": 7,
     "metadata": {},
     "output_type": "execute_result"
    }
   ],
   "source": [
    "df[df[\"ocean_proximity\"]=='NEAR BAY'][\"median_house_value\"].mean()"
   ]
  },
  {
   "cell_type": "markdown",
   "id": "6575b199-1987-4732-888b-b91d9e41b2f1",
   "metadata": {},
   "source": [
    "**Question 6**"
   ]
  },
  {
   "cell_type": "code",
   "execution_count": 8,
   "id": "cf31664b-f8f6-4079-afbb-3d83e53395c0",
   "metadata": {
    "tags": []
   },
   "outputs": [],
   "source": [
    "df1 = df.copy()\n",
    "_mean1 = df1[\"total_bedrooms\"].mean()\n",
    "df[\"total_bedrooms\"] = df[\"total_bedrooms\"].fillna(_mean1)\n",
    "_mean2 = df[\"total_bedrooms\"].mean()"
   ]
  },
  {
   "cell_type": "code",
   "execution_count": 9,
   "id": "51988657-fa38-4ddf-93f7-2917dccda894",
   "metadata": {
    "tags": []
   },
   "outputs": [
    {
     "name": "stdout",
     "output_type": "stream",
     "text": [
      "537.8705525375618 537.8705525375617\n"
     ]
    }
   ],
   "source": [
    "print(_mean1, _mean2)"
   ]
  },
  {
   "cell_type": "markdown",
   "id": "0d9bc665-1329-4b40-8beb-4485fc93b2a2",
   "metadata": {},
   "source": [
    "**Question 7**"
   ]
  },
  {
   "cell_type": "code",
   "execution_count": 10,
   "id": "1406d6ed-0eee-4f6e-aaf2-8a1342becf9e",
   "metadata": {
    "tags": []
   },
   "outputs": [],
   "source": [
    "df_isl = df[df[\"ocean_proximity\"]=='ISLAND']\n",
    "df_isl = df_isl[[\"housing_median_age\", \"total_rooms\", \"total_bedrooms\"]]"
   ]
  },
  {
   "cell_type": "code",
   "execution_count": 11,
   "id": "1d4f2883-045b-4d07-ba6b-fa379f825618",
   "metadata": {},
   "outputs": [],
   "source": [
    "X = df_isl.to_numpy()\n",
    "XT = X.T"
   ]
  },
  {
   "cell_type": "code",
   "execution_count": 25,
   "id": "83510cb7-889f-4677-9d60-3c077b171faa",
   "metadata": {
    "tags": []
   },
   "outputs": [
    {
     "data": {
      "text/plain": [
       "array([23.12330961, -1.48124183,  5.69922946])"
      ]
     },
     "execution_count": 25,
     "metadata": {},
     "output_type": "execute_result"
    }
   ],
   "source": [
    "XTX= XT.dot(X)\n",
    "XTX_inv = np.linalg.inv(XTX)\n",
    "y = np.array([950, 1300, 800, 1000, 1300])\n",
    "w = (XTX_inv.dot(XT)).dot(y)\n",
    "w"
   ]
  }
 ],
 "metadata": {
  "kernelspec": {
   "display_name": "Python 3 (ipykernel)",
   "language": "python",
   "name": "python3"
  },
  "language_info": {
   "codemirror_mode": {
    "name": "ipython",
    "version": 3
   },
   "file_extension": ".py",
   "mimetype": "text/x-python",
   "name": "python",
   "nbconvert_exporter": "python",
   "pygments_lexer": "ipython3",
   "version": "3.9.18"
  }
 },
 "nbformat": 4,
 "nbformat_minor": 5
}
